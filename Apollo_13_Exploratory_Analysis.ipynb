{
 "cells": [
  {
   "cell_type": "markdown",
   "metadata": {
    "collapsed": true
   },
   "source": [
    "<b>Apollo 13 Transcript Exploratory Analysis</b>\n",
    "\n",
    "The goal is to examine the transcript from the Apollo 13 mission to see if any interesting insights can be gleamed. The Apollo 13 was the famous mission to the moon that almost ended in disaster when an oxygen tank on board exploded."
   ]
  },
  {
   "cell_type": "code",
   "execution_count": 17,
   "metadata": {
    "collapsed": true
   },
   "outputs": [],
   "source": [
    "%matplotlib inline\n",
    "import pandas as pd\n",
    "import matplotlib.pyplot as plt"
   ]
  },
  {
   "cell_type": "code",
   "execution_count": 7,
   "metadata": {
    "collapsed": false
   },
   "outputs": [
    {
     "data": {
      "text/html": [
       "<div>\n",
       "<table border=\"1\" class=\"dataframe\">\n",
       "  <thead>\n",
       "    <tr style=\"text-align: right;\">\n",
       "      <th></th>\n",
       "      <th>time</th>\n",
       "      <th>speaker</th>\n",
       "      <th>text</th>\n",
       "    </tr>\n",
       "  </thead>\n",
       "  <tbody>\n",
       "    <tr>\n",
       "      <th>0</th>\n",
       "      <td>000:00:02</td>\n",
       "      <td>CDR</td>\n",
       "      <td>The clock is running.</td>\n",
       "    </tr>\n",
       "    <tr>\n",
       "      <th>1</th>\n",
       "      <td>000:00:03</td>\n",
       "      <td>CMP</td>\n",
       "      <td>Okay. P11, Jim.</td>\n",
       "    </tr>\n",
       "    <tr>\n",
       "      <th>2</th>\n",
       "      <td>000:00:05</td>\n",
       "      <td>CDR</td>\n",
       "      <td>Yaw program.</td>\n",
       "    </tr>\n",
       "    <tr>\n",
       "      <th>3</th>\n",
       "      <td>000:00:12</td>\n",
       "      <td>CMP</td>\n",
       "      <td>Clear the tower.</td>\n",
       "    </tr>\n",
       "    <tr>\n",
       "      <th>4</th>\n",
       "      <td>000:00:14</td>\n",
       "      <td>CDR</td>\n",
       "      <td>Yaw complete. Roll program.</td>\n",
       "    </tr>\n",
       "  </tbody>\n",
       "</table>\n",
       "</div>"
      ],
      "text/plain": [
       "        time speaker                         text\n",
       "0  000:00:02     CDR        The clock is running.\n",
       "1  000:00:03     CMP              Okay. P11, Jim.\n",
       "2  000:00:05     CDR                 Yaw program.\n",
       "3  000:00:12     CMP             Clear the tower.\n",
       "4  000:00:14     CDR  Yaw complete. Roll program."
      ]
     },
     "execution_count": 7,
     "metadata": {},
     "output_type": "execute_result"
    }
   ],
   "source": [
    "df = pd.read_table('cleanedData.txt')\n",
    "df.head()"
   ]
  },
  {
   "cell_type": "markdown",
   "metadata": {},
   "source": [
    "First, lets take a look at how many messages were sent by each speaker in descending order."
   ]
  },
  {
   "cell_type": "code",
   "execution_count": 14,
   "metadata": {
    "collapsed": false
   },
   "outputs": [
    {
     "name": "stdout",
     "output_type": "stream",
     "text": [
      "speaker\n",
      "CC     4805\n",
      "CDR    2333\n",
      "LMP    1942\n",
      "CMP    1732\n",
      "F        21\n",
      "SC       20\n",
      "R        10\n",
      "IWO       6\n",
      "S-2       2\n",
      "S-l       1\n",
      "S-1       1\n",
      "R-l       1\n",
      "P-l       1\n",
      "P-1       1\n",
      "dtype: int64\n"
     ]
    }
   ],
   "source": [
    "speakerCounts = df.groupby('speaker').size().sort_values(ascending = False)\n",
    "print speakerCounts"
   ]
  },
  {
   "cell_type": "markdown",
   "metadata": {},
   "source": [
    "On lines 76-93 of the original text file lists the meaning of these acronyms.\n",
    "\n",
    "Spacecraft:\n",
    "* CDR - Commander - James A. (Jim) Lovell, Jr.\n",
    "* CMP - Command module pilot - John L. Swigert, Jr.\n",
    "* LMP - Lunar module pilot - Fred W. Haise, Jr.\n",
    "* SC - Unidentified crewmember\n",
    "\n",
    "Mission Control Centers:\n",
    "* CC - Capsule communicator (CAP COMM)\n",
    "* F - Flight director\n",
    "* S - Surgeon\n",
    "\n",
    "Remote sites:\n",
    "* IWO - USS Iwo Jima\n",
    "* P-l, P-2, etc.            Photographic helicopters\n",
    "* R-l, R-2, etc.            Recovery helicopters\n",
    "\n",
    "The multiples of S-1/S-L and P-1/P-L are most likely just transcription errors where an L was used instead of a 1.\n",
    "\n",
    "The messages from the astronauts and the Cap Comm seem to dwarf everything else, so lets make a bar plot of using only that data."
   ]
  },
  {
   "cell_type": "code",
   "execution_count": 32,
   "metadata": {
    "collapsed": false
   },
   "outputs": [
    {
     "data": {
      "image/png": "[encoded data removed]",
      "text/plain": [
       "<matplotlib.figure.Figure at 0xc7e1518>"
      ]
     },
     "metadata": {},
     "output_type": "display_data"
    }
   ],
   "source": [
    "speakerCounts = speakerCounts.iloc[0:4]\n",
    "xPos = range(len(speakerCounts)) # create a range of numbers for each bar in bar plot\n",
    "\n",
    "plt.bar(xPos, speakerCounts,\n",
    "        color='#0B3D91', # NASA blue\n",
    "        align='center',\n",
    "        linewidth=0, \n",
    "        width=0.6,\n",
    "        zorder=2)\n",
    "\n",
    "names = ['Cap Com', 'Jim Lovell', 'John Swigert', 'Fred Haise']\n",
    "plt.xticks(xPos, names) # placing name labels\n",
    "plt.tick_params(axis=\"both\", which=\"both\", bottom=\"off\", top=\"off\", labelbottom=\"on\", left=\"off\", right=\"off\", labelleft=\"on\") # removing tick marks \n",
    "plt.title('Total Messages per Speaker') # add title\n",
    "\n",
    "# removing borders\n",
    "ax = plt.gca()\n",
    "ax.spines[\"top\"].set_visible(False)    \n",
    "ax.spines[\"bottom\"].set_visible(False)    \n",
    "ax.spines[\"right\"].set_visible(False)    \n",
    "ax.spines[\"left\"].set_visible(False)  \n",
    "\n",
    "# adding labels on each bar\n",
    "rects = ax.patches\n",
    "labels = speakerCounts\n",
    "for rect, label in zip(rects, labels):\n",
    "    height = rect.get_height()\n",
    "    ax.text(rect.get_x() + rect.get_width()/2, height-50, label, ha='center', va='top', color='white')\n",
    "    \n",
    "plt.show()"
   ]
  },
  {
   "cell_type": "markdown",
   "metadata": {},
   "source": [
    "I defined a few more columns to make dealing with time throughout the notebook a little easier. One being the total time elapsed in seconds, the other being what hour of the mission it is."
   ]
  },
  {
   "cell_type": "code",
   "execution_count": 33,
   "metadata": {
    "collapsed": false
   },
   "outputs": [
    {
     "data": {
      "text/html": [
       "<div>\n",
       "<table border=\"1\" class=\"dataframe\">\n",
       "  <thead>\n",
       "    <tr style=\"text-align: right;\">\n",
       "      <th></th>\n",
       "      <th>time</th>\n",
       "      <th>speaker</th>\n",
       "      <th>text</th>\n",
       "      <th>seconds</th>\n",
       "      <th>hour</th>\n",
       "    </tr>\n",
       "  </thead>\n",
       "  <tbody>\n",
       "    <tr>\n",
       "      <th>0</th>\n",
       "      <td>000:00:02</td>\n",
       "      <td>CDR</td>\n",
       "      <td>The clock is running.</td>\n",
       "      <td>2</td>\n",
       "      <td>0</td>\n",
       "    </tr>\n",
       "    <tr>\n",
       "      <th>1</th>\n",
       "      <td>000:00:03</td>\n",
       "      <td>CMP</td>\n",
       "      <td>Okay. P11, Jim.</td>\n",
       "      <td>3</td>\n",
       "      <td>0</td>\n",
       "    </tr>\n",
       "    <tr>\n",
       "      <th>2</th>\n",
       "      <td>000:00:05</td>\n",
       "      <td>CDR</td>\n",
       "      <td>Yaw program.</td>\n",
       "      <td>5</td>\n",
       "      <td>0</td>\n",
       "    </tr>\n",
       "    <tr>\n",
       "      <th>3</th>\n",
       "      <td>000:00:12</td>\n",
       "      <td>CMP</td>\n",
       "      <td>Clear the tower.</td>\n",
       "      <td>12</td>\n",
       "      <td>0</td>\n",
       "    </tr>\n",
       "    <tr>\n",
       "      <th>4</th>\n",
       "      <td>000:00:14</td>\n",
       "      <td>CDR</td>\n",
       "      <td>Yaw complete. Roll program.</td>\n",
       "      <td>14</td>\n",
       "      <td>0</td>\n",
       "    </tr>\n",
       "  </tbody>\n",
       "</table>\n",
       "</div>"
      ],
      "text/plain": [
       "        time speaker                         text  seconds  hour\n",
       "0  000:00:02     CDR        The clock is running.        2     0\n",
       "1  000:00:03     CMP              Okay. P11, Jim.        3     0\n",
       "2  000:00:05     CDR                 Yaw program.        5     0\n",
       "3  000:00:12     CMP             Clear the tower.       12     0\n",
       "4  000:00:14     CDR  Yaw complete. Roll program.       14     0"
      ]
     },
     "execution_count": 33,
     "metadata": {},
     "output_type": "execute_result"
    }
   ],
   "source": [
    "df['seconds'] = df.time.str.split(':').apply( lambda x: int(x[0]) * 3600 + int(x[1]) * 60 + int(x[2]) )\n",
    "df['hour'] = df.time.str.split(':').apply( lambda x: int(x[0]) )\n",
    "\n",
    "df.head()"
   ]
  },
  {
   "cell_type": "markdown",
   "metadata": {},
   "source": [
    "The next thing I wanted to look at was the length of each message and to plot these values over the mission."
   ]
  },
  {
   "cell_type": "code",
   "execution_count": 51,
   "metadata": {
    "collapsed": false
   },
   "outputs": [
    {
     "data": {
      "text/html": [
       "<div>\n",
       "<table border=\"1\" class=\"dataframe\">\n",
       "  <thead>\n",
       "    <tr style=\"text-align: right;\">\n",
       "      <th></th>\n",
       "      <th>time</th>\n",
       "      <th>speaker</th>\n",
       "      <th>text</th>\n",
       "      <th>seconds</th>\n",
       "      <th>hour</th>\n",
       "      <th>length</th>\n",
       "    </tr>\n",
       "  </thead>\n",
       "  <tbody>\n",
       "    <tr>\n",
       "      <th>0</th>\n",
       "      <td>000:00:02</td>\n",
       "      <td>CDR</td>\n",
       "      <td>The clock is running.</td>\n",
       "      <td>2</td>\n",
       "      <td>0</td>\n",
       "      <td>21</td>\n",
       "    </tr>\n",
       "    <tr>\n",
       "      <th>1</th>\n",
       "      <td>000:00:03</td>\n",
       "      <td>CMP</td>\n",
       "      <td>Okay. P11, Jim.</td>\n",
       "      <td>3</td>\n",
       "      <td>0</td>\n",
       "      <td>15</td>\n",
       "    </tr>\n",
       "    <tr>\n",
       "      <th>2</th>\n",
       "      <td>000:00:05</td>\n",
       "      <td>CDR</td>\n",
       "      <td>Yaw program.</td>\n",
       "      <td>5</td>\n",
       "      <td>0</td>\n",
       "      <td>12</td>\n",
       "    </tr>\n",
       "    <tr>\n",
       "      <th>3</th>\n",
       "      <td>000:00:12</td>\n",
       "      <td>CMP</td>\n",
       "      <td>Clear the tower.</td>\n",
       "      <td>12</td>\n",
       "      <td>0</td>\n",
       "      <td>16</td>\n",
       "    </tr>\n",
       "    <tr>\n",
       "      <th>4</th>\n",
       "      <td>000:00:14</td>\n",
       "      <td>CDR</td>\n",
       "      <td>Yaw complete. Roll program.</td>\n",
       "      <td>14</td>\n",
       "      <td>0</td>\n",
       "      <td>27</td>\n",
       "    </tr>\n",
       "  </tbody>\n",
       "</table>\n",
       "</div>"
      ],
      "text/plain": [
       "        time speaker                         text  seconds  hour  length\n",
       "0  000:00:02     CDR        The clock is running.        2     0      21\n",
       "1  000:00:03     CMP              Okay. P11, Jim.        3     0      15\n",
       "2  000:00:05     CDR                 Yaw program.        5     0      12\n",
       "3  000:00:12     CMP             Clear the tower.       12     0      16\n",
       "4  000:00:14     CDR  Yaw complete. Roll program.       14     0      27"
      ]
     },
     "execution_count": 51,
     "metadata": {},
     "output_type": "execute_result"
    }
   ],
   "source": [
    "df['length'] = df.text.str.len() # adding a column to dataframe to represent length of each message\n",
    "df.head()"
   ]
  },
  {
   "cell_type": "markdown",
   "metadata": {},
   "source": [
    "Before I plot I wanted to find the famous <i>\"Houston, we've had a problem\"</i> message so I could highlight it in the plot. This is the point where the one of the spacecrafts oxygen tanks blew up."
   ]
  },
  {
   "cell_type": "code",
   "execution_count": 55,
   "metadata": {
    "collapsed": false
   },
   "outputs": [
    {
     "data": {
      "text/html": [
       "<div>\n",
       "<table border=\"1\" class=\"dataframe\">\n",
       "  <thead>\n",
       "    <tr style=\"text-align: right;\">\n",
       "      <th></th>\n",
       "      <th>time</th>\n",
       "      <th>speaker</th>\n",
       "      <th>text</th>\n",
       "      <th>seconds</th>\n",
       "      <th>hour</th>\n",
       "      <th>length</th>\n",
       "    </tr>\n",
       "  </thead>\n",
       "  <tbody>\n",
       "    <tr>\n",
       "      <th>2199</th>\n",
       "      <td>055:55:35</td>\n",
       "      <td>CDR</td>\n",
       "      <td>Houston, we've had a problem. We've had a MAIN...</td>\n",
       "      <td>201335</td>\n",
       "      <td>55</td>\n",
       "      <td>63</td>\n",
       "    </tr>\n",
       "  </tbody>\n",
       "</table>\n",
       "</div>"
      ],
      "text/plain": [
       "           time speaker                                               text  \\\n",
       "2199  055:55:35     CDR  Houston, we've had a problem. We've had a MAIN...   \n",
       "\n",
       "      seconds  hour  length  \n",
       "2199   201335    55      63  "
      ]
     },
     "execution_count": 55,
     "metadata": {},
     "output_type": "execute_result"
    }
   ],
   "source": [
    "problem = df[df.text == \"Houston, we've had a problem. We've had a MAIN B BUS UNDERVOLT.\"]\n",
    "problem # print"
   ]
  },
  {
   "cell_type": "code",
   "execution_count": 56,
   "metadata": {
    "collapsed": false
   },
   "outputs": [
    {
     "data": {
      "image/png": "[encoded data removed]",
      "text/plain": [
       "<matplotlib.figure.Figure at 0xb603240>"
      ]
     },
     "metadata": {},
     "output_type": "display_data"
    }
   ],
   "source": [
    "plt.scatter(df.seconds, df.length,\n",
    "            marker = '.', \n",
    "            color = '#0B3D91',\n",
    "            s = 1)\n",
    "plt.xlabel('Seconds into mission') # add xlabel\n",
    "plt.ylabel('Length of message') # ylabel\n",
    "plt.tick_params(axis=\"both\", which=\"both\", bottom=\"off\", top=\"off\", labelbottom=\"on\", left=\"off\", right=\"off\", labelleft=\"on\") # removing tick marks \n",
    "\n",
    "# removing borders\n",
    "ax = plt.gca()\n",
    "ax.spines[\"top\"].set_visible(False)    \n",
    "ax.spines[\"bottom\"].set_visible(False)    \n",
    "ax.spines[\"right\"].set_visible(False)    \n",
    "ax.spines[\"left\"].set_visible(False)  \n",
    "\n",
    "plt.scatter(problem.seconds,problem.length,\n",
    "           marker = '.',\n",
    "           color = 'red', # change color to red to stand out\n",
    "           s = 30) # make size larger to stand out\n",
    "plt.show()"
   ]
  },
  {
   "cell_type": "code",
   "execution_count": null,
   "metadata": {
    "collapsed": true
   },
   "outputs": [],
   "source": []
  }
 ],
 "metadata": {
  "kernelspec": {
   "display_name": "Python [conda root]",
   "language": "python",
   "name": "conda-root-py"
  },
  "language_info": {
   "codemirror_mode": {
    "name": "ipython",
    "version": 2
   },
   "file_extension": ".py",
   "mimetype": "text/x-python",
   "name": "python",
   "nbconvert_exporter": "python",
   "pygments_lexer": "ipython2",
   "version": "2.7.12"
  }
 },
 "nbformat": 4,
 "nbformat_minor": 1
}
